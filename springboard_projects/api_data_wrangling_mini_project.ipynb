{
 "cells": [
  {
   "cell_type": "markdown",
   "metadata": {},
   "source": [
    "This exercise will require you to pull some data from https://data.nasdaq.com/ (formerly Quandl API)."
   ]
  },
  {
   "cell_type": "markdown",
   "metadata": {},
   "source": [
    "As a first step, you will need to register a free account on the https://data.nasdaq.com/ website."
   ]
  },
  {
   "cell_type": "markdown",
   "metadata": {},
   "source": [
    "After you register, you will be provided with a unique API key, that you should store:\n",
    "\n",
    "*Note*: Use a `.env` file and put your key in there and `python-dotenv` to access it in this notebook. \n",
    "\n",
    "The code below uses a key that was used when generating this project but has since been deleted. Never submit your keys to source control. There is a `.env-example` file in this repository to illusrtate what you need. Copy that to a file called `.env` and use your own api key in that `.env` file. Make sure you also have a `.gitignore` file with a line for `.env` added to it. \n",
    "\n",
    "The standard Python gitignore is [here](https://github.com/github/gitignore/blob/master/Python.gitignore) you can just copy that. "
   ]
  },
  {
   "cell_type": "code",
   "execution_count": 1,
   "metadata": {},
   "outputs": [],
   "source": [
    "# get api key from your .env file\n",
    "import os\n",
    "from dotenv import load_dotenv\n",
    "\n",
    "env_file = 'api.txt'\n",
    "load_dotenv(env_file)\n",
    "API_KEY = os.getenv('NASDAQ_API_KEY')"
   ]
  },
  {
   "cell_type": "markdown",
   "metadata": {},
   "source": [
    "Nasdaq Data has a large number of data sources, but, unfortunately, most of them require a Premium subscription. Still, there are also a good number of free datasets."
   ]
  },
  {
   "cell_type": "markdown",
   "metadata": {},
   "source": [
    "For this mini project, we will focus on equities data from the Frankfurt Stock Exhange (FSE), which is available for free. We'll try and analyze the stock prices of a company called Carl Zeiss Meditec, which manufactures tools for eye examinations, as well as medical lasers for laser eye surgery: https://www.zeiss.com/meditec/int/home.html. The company is listed under the stock ticker AFX_X."
   ]
  },
  {
   "cell_type": "markdown",
   "metadata": {},
   "source": [
    "You can find the detailed Nasdaq Data API instructions here: https://docs.data.nasdaq.com/docs/in-depth-usage"
   ]
  },
  {
   "cell_type": "markdown",
   "metadata": {},
   "source": [
    "While there is a dedicated Python package for connecting to the Nasdaq API, we would prefer that you use the *requests* package, which can be easily downloaded using *pip* or *conda*. You can find the documentation for the package here: http://docs.python-requests.org/en/master/ "
   ]
  },
  {
   "cell_type": "markdown",
   "metadata": {},
   "source": [
    "Finally, apart from the *requests* package, you are encouraged to not use any third party Python packages, such as *pandas*, and instead focus on what's available in the Python Standard Library (the *collections* module might come in handy: https://pymotw.com/3/collections/).\n",
    "Also, since you won't have access to DataFrames, you are encouraged to us Python's native data structures - preferably dictionaries, though some questions can also be answered using lists.\n",
    "You can read more on these data structures here: https://docs.python.org/3/tutorial/datastructures.html"
   ]
  },
  {
   "cell_type": "markdown",
   "metadata": {},
   "source": [
    "Keep in mind that the JSON responses you will be getting from the API map almost one-to-one to Python's dictionaries. Unfortunately, they can be very nested, so make sure you read up on indexing dictionaries in the documentation provided above."
   ]
  },
  {
   "cell_type": "code",
   "execution_count": 2,
   "metadata": {},
   "outputs": [],
   "source": [
    "# First, import the relevant modules\n",
    "import requests"
   ]
  },
  {
   "cell_type": "markdown",
   "metadata": {},
   "source": [
    "Note: API's can change a bit with each version, for this exercise it is reccomended to use the nasdaq api at `https://data.nasdaq.com/api/v3/`. This is the same api as what used to be quandl so `https://www.quandl.com/api/v3/` should work too.\n",
    "\n",
    "Hint: We are looking for the `AFX_X` data on the `datasets/FSE/` dataset."
   ]
  },
  {
   "cell_type": "code",
   "execution_count": 3,
   "metadata": {},
   "outputs": [],
   "source": [
    "# Now, call the Nasdaq API and pull out a small sample \n",
    "# of the data (only one day) to get a glimpse\n",
    "# into the JSON structure that will be returned\n",
    "url = 'https://data.nasdaq.com/api/v3/datasets/FSE/AFX_X/data'\n",
    "r = requests.get(url)"
   ]
  },
  {
   "cell_type": "code",
   "execution_count": 4,
   "metadata": {},
   "outputs": [],
   "source": [
    "# Inspect the JSON structure of the object you created, \n",
    "# and take note of how nested it is,\n",
    "# as well as the overall structure\n",
    "params = {\n",
    "    'start_date':'2017-01-01',\n",
    "    'end_date':'2017-12-31'\n",
    "}\n",
    "res = requests.get(url, params)\n",
    "json_data_2017 = res.json()"
   ]
  },
  {
   "cell_type": "code",
   "execution_count": 5,
   "metadata": {},
   "outputs": [],
   "source": [
    "# json_data_2017"
   ]
  },
  {
   "cell_type": "code",
   "execution_count": 6,
   "metadata": {},
   "outputs": [],
   "source": [
    "# json_data_2017['dataset_data'].values()"
   ]
  },
  {
   "cell_type": "markdown",
   "metadata": {},
   "source": [
    "These are your tasks for this mini project:\n",
    "\n",
    "1. Collect data from the Franfurt Stock Exchange, for the ticker AFX_X, for the whole year 2017 (keep in mind that the date format is YYYY-MM-DD).\n",
    "2. Convert the returned JSON object into a Python dictionary.\n",
    "3. Calculate what the highest and lowest opening prices were for the stock in this period.\n",
    "4. What was the largest change in any one day (based on High and Low price)?\n",
    "5. What was the largest change between any two days (based on Closing Price)?\n",
    "6. What was the average daily trading volume during this year?\n",
    "7. (Optional) What was the median trading volume during this year. (Note: you may need to implement your own function for calculating the median.)"
   ]
  },
  {
   "cell_type": "code",
   "execution_count": 7,
   "metadata": {},
   "outputs": [
    {
     "data": {
      "text/plain": [
       "dict_keys(['limit', 'transform', 'column_index', 'column_names', 'start_date', 'end_date', 'frequency', 'data', 'collapse', 'order'])"
      ]
     },
     "execution_count": 7,
     "metadata": {},
     "output_type": "execute_result"
    }
   ],
   "source": [
    "# dataset_data is a key with a nested dictionary\n",
    "# json_data_2017 has ten keys\n",
    "# limit\n",
    "# transform\n",
    "# column_index\n",
    "# column_names\n",
    "# start_date\n",
    "# end_date\n",
    "# frequency\n",
    "# data\n",
    "# collapse\n",
    "# order\n",
    "\n",
    "json_data_2017['dataset_data'].keys()"
   ]
  },
  {
   "cell_type": "code",
   "execution_count": 8,
   "metadata": {},
   "outputs": [],
   "source": [
    "data = json_data_2017['dataset_data']['data']\n",
    "# print(data)"
   ]
  },
  {
   "cell_type": "code",
   "execution_count": 9,
   "metadata": {},
   "outputs": [
    {
     "name": "stdout",
     "output_type": "stream",
     "text": [
      "['Date', 'Open', 'High', 'Low', 'Close', 'Change', 'Traded Volume', 'Turnover', 'Last Price of the Day', 'Daily Traded Units', 'Daily Turnover']\n",
      "['2017-12-29', 51.76, 51.94, 51.45, 51.76, None, 34640.0, 1792304.0, None, None, None]\n"
     ]
    }
   ],
   "source": [
    "col_names = json_data_2017['dataset_data']['column_names']\n",
    "print(col_names)\n",
    "print(data[0])"
   ]
  },
  {
   "cell_type": "code",
   "execution_count": 10,
   "metadata": {},
   "outputs": [
    {
     "name": "stdout",
     "output_type": "stream",
     "text": [
      "[169, 179, 180]\n"
     ]
    }
   ],
   "source": [
    "# find all indices for types == None, replace with 0\n",
    "none_indices = [index for index, sublist in enumerate(data) if sublist[1] is None]\n",
    "print(none_indices)\n",
    "\n",
    "# 169, 179, 180"
   ]
  },
  {
   "cell_type": "code",
   "execution_count": 26,
   "metadata": {},
   "outputs": [
    {
     "name": "stdout",
     "output_type": "stream",
     "text": [
      "43.33820715109573\n"
     ]
    }
   ],
   "source": [
    "# get the mean value for open prices\n",
    "days = len(data)\n",
    "mean_value = 0\n",
    "total_open = 0\n",
    "for sublist in data:\n",
    "    if sublist[1] is not None:\n",
    "        total_open += sublist[1]\n",
    "        mean_value = total_open / days\n",
    "        \n",
    "print(mean_value)"
   ]
  },
  {
   "cell_type": "code",
   "execution_count": 27,
   "metadata": {},
   "outputs": [],
   "source": [
    "# set default value of 'None' to the mean\n",
    "# print(mean_value)\n",
    "\n",
    "for sublist in data:\n",
    "    if sublist[1] is None:\n",
    "        print(sublist[1])\n",
    "        sublist[1] = mean_value\n",
    "        "
   ]
  },
  {
   "cell_type": "code",
   "execution_count": 29,
   "metadata": {},
   "outputs": [
    {
     "name": "stdout",
     "output_type": "stream",
     "text": [
      "The highest opening price was $53.11.\n",
      "The lowest opening price was $34.00.\n"
     ]
    }
   ],
   "source": [
    "#3 Calculate what the highest and lowest opening prices \n",
    "# were for the stock in this period.\n",
    "\n",
    "open_max = 0\n",
    "open_min = data[1][1]\n",
    "for sublist in data:\n",
    "    if sublist[1] > open_max:\n",
    "        open_max = sublist[1]\n",
    "    if sublist[1] < open_min and sublist[1] > 0:\n",
    "        open_min = sublist[1]\n",
    "    \n",
    "print(f'The highest opening price was ${open_max:,.2f}.')\n",
    "print(f'The lowest opening price was ${open_min:,.2f}.')"
   ]
  },
  {
   "cell_type": "code",
   "execution_count": 14,
   "metadata": {},
   "outputs": [
    {
     "name": "stdout",
     "output_type": "stream",
     "text": [
      "The largest change in price for any one day was $2.81.\n"
     ]
    }
   ],
   "source": [
    "#4 What was the largest change in any one day (based on High and Low price)?\n",
    "max_diff = 0\n",
    "for i,j in enumerate(data):\n",
    "    diff = j[2] - j[3]\n",
    "    if diff > max_diff:\n",
    "        max_diff = diff\n",
    "        \n",
    "print(f'The largest change in price for any one day was ${max_diff:,.2f}.')"
   ]
  },
  {
   "cell_type": "code",
   "execution_count": 15,
   "metadata": {},
   "outputs": [
    {
     "name": "stdout",
     "output_type": "stream",
     "text": [
      "The largest change in price for any two consecutive days was $2.56.\n"
     ]
    }
   ],
   "source": [
    "#5 What was the largest change between any two days (based on Closing Price)?\n",
    "j=0\n",
    "largest_close_diff = 0\n",
    "\n",
    "while j < len(data)-1:\n",
    "    day1 = data[j][4]\n",
    "    day2 = data[j+1][4]\n",
    "    close_diff = day2 - day1\n",
    "    if close_diff > largest_close_diff:\n",
    "        largest_close_diff = close_diff\n",
    "    j+=1\n",
    "  \n",
    "\n",
    "print(f'The largest change in price for any two consecutive days was ${largest_close_diff:,.2f}.')"
   ]
  },
  {
   "cell_type": "code",
   "execution_count": 16,
   "metadata": {
    "scrolled": true
   },
   "outputs": [
    {
     "name": "stdout",
     "output_type": "stream",
     "text": [
      "The average daily trading volume for the year 2017 was 89,124.34 shares.\n"
     ]
    }
   ],
   "source": [
    "#6 What was the average daily trading volume during this year?\n",
    "days = len(data)\n",
    "total_volume = 0\n",
    "for sublist in data:\n",
    "    total_volume += sublist[6]\n",
    "    \n",
    "average = total_volume/days\n",
    "print(f'The average daily trading volume for the year 2017 was {average:,.2f} shares.')"
   ]
  },
  {
   "cell_type": "code",
   "execution_count": 17,
   "metadata": {
    "scrolled": true
   },
   "outputs": [
    {
     "name": "stdout",
     "output_type": "stream",
     "text": [
      "The median volume traded during the year was 76286.0 shares.\n"
     ]
    }
   ],
   "source": [
    "#7 (Optional) What was the median trading volume during this year. (Note: you may need to implement your own function for calculating the median.)\n",
    "trade_vol = []\n",
    "for sublist in data:\n",
    "    trade_vol.append(sublist[6])\n",
    "    \n",
    "mid = (len(trade_vol) - 1)//2\n",
    "trade_vol = sorted(trade_vol)\n",
    "\n",
    "print(f'The median volume traded during the year was {trade_vol[mid]} shares.')    "
   ]
  },
  {
   "cell_type": "code",
   "execution_count": null,
   "metadata": {},
   "outputs": [],
   "source": []
  }
 ],
 "metadata": {
  "interpreter": {
   "hash": "7635eb1b9d0fe97add78a7368b6b431c09bb8ad5c42e437d64abdd99821c31ae"
  },
  "kernelspec": {
   "display_name": "Python 3 (ipykernel)",
   "language": "python",
   "name": "python3"
  },
  "language_info": {
   "codemirror_mode": {
    "name": "ipython",
    "version": 3
   },
   "file_extension": ".py",
   "mimetype": "text/x-python",
   "name": "python",
   "nbconvert_exporter": "python",
   "pygments_lexer": "ipython3",
   "version": "3.11.5"
  }
 },
 "nbformat": 4,
 "nbformat_minor": 4
}
